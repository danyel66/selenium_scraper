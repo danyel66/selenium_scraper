{
 "cells": [
  {
   "cell_type": "code",
   "execution_count": null,
   "id": "232e3d3d",
   "metadata": {},
   "outputs": [],
   "source": [
    "#Import the necessary libraries\n",
    "from selenium import webdriver\n",
    "from selenium.webdriver.common.by import By\n",
    "from selenium.webdriver.chrome.service import Service\n",
    "import pandas as pd"
   ]
  },
  {
   "cell_type": "code",
   "execution_count": null,
   "id": "83c86722",
   "metadata": {
    "scrolled": true
   },
   "outputs": [],
   "source": [
    "#Create a Chrome driver instance\n",
    "driver = webdriver.Chrome()\n",
    "\n",
    "#Go to the Glassdoor website\n",
    "driver.get(\"https://glassdoor.com\")"
   ]
  },
  {
   "cell_type": "code",
   "execution_count": null,
   "id": "14f66a28",
   "metadata": {},
   "outputs": [],
   "source": [
    "#Search for the job title you want to scrape\n",
    "#driver.find_element(By.ID, \"Keyword\").send_keys(\"Software Engineer\")\n",
    "#driver.find_element(By.ID, \"Location\").send_keys(\"San Francisco\")\n",
    "#driver.find_element(By.ID, \"SubmitButton\").click()"
   ]
  },
  {
   "cell_type": "code",
   "execution_count": null,
   "id": "c2b528c1",
   "metadata": {},
   "outputs": [],
   "source": [
    "#Iterate through the job listings and scrape the data\n",
    "\n",
    "# for job_listing in driver.find_elements_by_class_name(\"jobListing\"):\n",
    "#     job_title = job_listing.find_element_by_class_name(\"jobTitle\").text\n",
    "#     company_name = job_listing.find_element_by_class_name(\"companyName\").text\n",
    "#     job_location = job_listing.find_element_by_class_name(\"jobLocation\").text\n",
    "#     salary_range = job_listing.find_element_by_class_name(\"salary\").text\n",
    "\n",
    "#     data = {\n",
    "#         \"job_title\": job_title,\n",
    "#         \"company_name\": company_name,\n",
    "#         \"job_location\": job_location,\n",
    "#         \"salary_range\": salary_range,\n",
    "#     }\n",
    "\n",
    "#     df = df.append(data, ignore_index=True)\n"
   ]
  },
  {
   "cell_type": "code",
   "execution_count": null,
   "id": "f5024b02",
   "metadata": {},
   "outputs": [],
   "source": []
  }
 ],
 "metadata": {
  "kernelspec": {
   "display_name": "Python 3 (ipykernel)",
   "language": "python",
   "name": "python3"
  },
  "language_info": {
   "codemirror_mode": {
    "name": "ipython",
    "version": 3
   },
   "file_extension": ".py",
   "mimetype": "text/x-python",
   "name": "python",
   "nbconvert_exporter": "python",
   "pygments_lexer": "ipython3",
   "version": "3.9.13"
  }
 },
 "nbformat": 4,
 "nbformat_minor": 5
}
